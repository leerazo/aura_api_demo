{
 "cells": [
  {
   "cell_type": "markdown",
   "id": "e86858bf-b3e3-4e46-8b35-57bc73308825",
   "metadata": {},
   "source": [
    "### Caixa Bank Demo ###"
   ]
  },
  {
   "cell_type": "code",
   "execution_count": null,
   "id": "7ff8ccca-0166-46f9-96e7-4a2ef1e52ea6",
   "metadata": {
    "id": "0XaJMaSBGmzO",
    "tags": []
   },
   "outputs": [],
   "source": [
    "%pip install python-dotenv\n",
    "\n",
    "# Restart the kernel after installing libraries\n",
    "import IPython\n",
    "app = IPython.Application.instance()\n",
    "app.kernel.do_shutdown(True)"
   ]
  },
  {
   "cell_type": "markdown",
   "id": "fb3a30a5-474a-4b4f-a759-07fd48e9b749",
   "metadata": {},
   "source": [
    "Setting some parameters"
   ]
  },
  {
   "cell_type": "code",
   "execution_count": null,
   "id": "c334b409-1f78-4c46-93b5-cda880a53241",
   "metadata": {
    "id": "hAjKy1HbGmzO",
    "tags": []
   },
   "outputs": [],
   "source": [
    "from dotenv import dotenv_values\n",
    "from urllib.parse import urljoin\n",
    "from pprint import pprint as pp\n",
    "import subprocess\n",
    "import datetime\n",
    "import json\n",
    "from pprint import pprint as pp\n",
    "from graphdatascience import GraphDataScience"
   ]
  },
  {
   "cell_type": "markdown",
   "id": "d2cc0994-cc28-4131-9e57-8db2fdb7e807",
   "metadata": {
    "tags": []
   },
   "source": [
    "## Helper Functions ##"
   ]
  },
  {
   "cell_type": "code",
   "execution_count": null,
   "id": "593bacdf-5b95-4e9e-acfe-0e9574130a2d",
   "metadata": {
    "tags": []
   },
   "outputs": [],
   "source": [
    "# This function looks for a bearer token and refreshes if it does not exist or is expired\n",
    "def refresh_token(api_creds, api_base):\n",
    "    api_endpoint = urljoin(api_base, '/oauth/token')\n",
    "\n",
    "    curl_cmd = \"curl --request POST '{}' --user '{}:{}' --header 'Content-Type: application/x-www-form-urlencoded' --data-urlencode 'grant_type=client_credentials'\".format(api_endpoint, api_creds['CLIENT_ID'], api_creds['CLIENT_SECRET'], api_creds['CLIENT_NAME'])\n",
    "    result = json.loads(subprocess.check_output(curl_cmd, shell=True))\n",
    "    access_token = result['access_token']\n",
    "    expires_in = result['expires_in']\n",
    "\n",
    "    now = datetime.datetime.now()\n",
    "    expiration = (now + datetime.timedelta(0, expires_in)).isoformat()\n",
    "\n",
    "    bearer_token = {\n",
    "        'access_token': access_token,\n",
    "        'expiration': expiration\n",
    "    }\n",
    "\n",
    "    # Save the bearer token to a file\n",
    "    token_file = '.secret/api_bearer_token'\n",
    "    with open(token_file, \"w\") as outfile:\n",
    "        json.dump(bearer_token, outfile, indent=4)\n",
    "\n",
    "    access_token = bearer_token['access_token']\n",
    "    return access_token\n",
    "\n",
    "def deploy_instance(access_token, api_base, instance_name, tenant_id, cloud_provider, region='europe-west1', aura_type='professional-ds', neo4j_version='5', size='16GB'):\n",
    "    api_endpoint = urljoin(api_base, '/v1/instances')\n",
    "\n",
    "    instance_details = {}\n",
    "    print('\\nDeployment specifications:')\n",
    "    print('neo4j_version:', neo4j_version)\n",
    "    print('region:', region)\n",
    "    print('memory:', size)\n",
    "    print('name:', instance_name)\n",
    "    print('type:', aura_type)\n",
    "    print('tenant_id', tenant_id)\n",
    "    print('cloud_provider:', cloud_provider)\n",
    "\n",
    "    request_body = {\n",
    "        \"version\": neo4j_version,\n",
    "        \"region\": region,\n",
    "        \"memory\": size,\n",
    "        \"name\": instance_name,\n",
    "        \"type\": aura_type,\n",
    "        \"tenant_id\": tenant_id,\n",
    "        \"cloud_provider\": cloud_provider\n",
    "    }\n",
    "\n",
    "    json_request_body = json.dumps(request_body)\n",
    "\n",
    "    curl_cmd = \"curl -s -X 'POST' '{}' -H 'accept: application/json' -H 'Authorization: Bearer {}' -H 'Content-Type: application/json'\".format(api_endpoint, access_token)\n",
    "    curl_cmd += \" -d '{}'\".format(json_request_body)\n",
    "\n",
    "    api_response = json.loads(subprocess.check_output(curl_cmd, shell=True))\n",
    "    print(api_response)\n",
    "    response_data = api_response['data']\n",
    "\n",
    "    instance_details['id'] = response_data['id']\n",
    "    instance_details['name'] = response_data['name']\n",
    "    instance_details['connection_url'] = response_data['connection_url']\n",
    "    instance_details['password'] = response_data['password']\n",
    "    instance_details['username'] = response_data['username']\n",
    "    instance_details['cloud_provider'] = response_data['cloud_provider']\n",
    "    instance_details['region'] = response_data['region']\n",
    "    instance_details['tenant_id'] = response_data['tenant_id']\n",
    "    instance_details['type'] = response_data['type']\n",
    "\n",
    "    return instance_details\n",
    "\n",
    "# Informational functions -- not essential\n",
    "def tenant_info(access_token, api_base, tenant_id):\n",
    "    api_endpoint = urljoin(api_base, '/v1/tenants/' + tenant_id)\n",
    "    tenant_data = {}\n",
    "    info_cmd = \"curl -s -X 'GET' '{}' -H 'accept: application/json' -H 'Authorization: Bearer {}'\".format(api_endpoint, access_token)\n",
    "    tenant_info = json.loads(subprocess.check_output(info_cmd, shell=True))['data']\n",
    "\n",
    "    for item in tenant_info:\n",
    "        tenant_data[tenant_info['id']] = {}\n",
    "        tenant_data[tenant_info['id']]['tenant_id'] = tenant_info['id']\n",
    "        tenant_data[tenant_info['id']]['tenant_name'] = tenant_info['name']\n",
    "        tenant_data[tenant_info['id']]['instance_configurations'] = list(tenant_info['instance_configurations'])\n",
    "\n",
    "    return tenant_data\n",
    "\n",
    "def list_instances(access_token, api_base, tenant_id=None):\n",
    "    api_endpoint = urljoin(api_base, '/v1/instances')\n",
    "    aura_instances = {}\n",
    "    list_cmd = \"curl -s -X 'GET' '{}' -H 'accept: application/json' -H 'Authorization: Bearer {}'\".format(api_endpoint, access_token)\n",
    "\n",
    "    list_instances = json.loads(subprocess.check_output(list_cmd, shell=True))['data']\n",
    "    for instance in list_instances:\n",
    "        aura_instances[instance['id']] = {}\n",
    "        aura_instances[instance['id']]['instance_id'] = instance['id']\n",
    "        aura_instances[instance['id']]['instance_name'] = instance['name']\n",
    "        aura_instances[instance['id']]['cloud_provider'] = instance['cloud_provider']\n",
    "        aura_instances[instance['id']]['tenant_id'] = instance['tenant_id']\n",
    "\n",
    "    return aura_instances\n",
    "\n",
    "def instance_info(access_token, api_base, instance_id):\n",
    "    api_endpoint = urljoin(api_base, '/v1/instances/' + instance_id)\n",
    "    instance_data = {}\n",
    "\n",
    "    info_cmd = \"curl -s -X 'GET' '{}' -H 'accept: application/json' -H 'Authorization: Bearer {}'\".format(api_endpoint, access_token)\n",
    "\n",
    "    api_response = json.loads(subprocess.check_output(info_cmd, shell=True))\n",
    "\n",
    "    if 'data' in api_response:\n",
    "        response_data = api_response['data']\n",
    "        instance_status = response_data['status']\n",
    "\n",
    "    return response_data"
   ]
  },
  {
   "cell_type": "markdown",
   "id": "2b155cc1-0fbe-499c-81db-b3985db9354d",
   "metadata": {
    "tags": []
   },
   "source": [
    "## Authenticate API ##"
   ]
  },
  {
   "cell_type": "code",
   "execution_count": null,
   "id": "a7267bd4-b843-4178-8db7-6f708a8e0335",
   "metadata": {
    "id": "b988Lu9CGmzP",
    "tags": []
   },
   "outputs": [],
   "source": [
    "#filename = list(uploaded.keys())[0]\n",
    "secret_path = \".secret\"\n",
    "credentials_file = secret_path + \"/aura_ent_api.txt\"\n",
    "token_file = secret_path + \"/api_bearer_token\"\n",
    "print(\"Credential file:\", credentials_file)\n",
    "aura_creds = dotenv_values(credentials_file)\n",
    "for item in aura_creds:\n",
    "  print(item, '=', aura_creds[item])"
   ]
  },
  {
   "cell_type": "code",
   "execution_count": null,
   "id": "cc925e0c-6044-474b-ae0a-704233d954ff",
   "metadata": {
    "id": "JKNtb7g9GmzP",
    "tags": []
   },
   "outputs": [],
   "source": [
    "api_base = 'https://api.neo4j.io/'\n",
    "access_token = refresh_token(aura_creds, api_base)\n",
    "print('access_token:', access_token)"
   ]
  },
  {
   "cell_type": "markdown",
   "id": "8821a0c9-c062-4ab0-8742-44583db93999",
   "metadata": {
    "tags": []
   },
   "source": [
    "## Deploy Aura Instance ##"
   ]
  },
  {
   "cell_type": "code",
   "execution_count": null,
   "id": "11d2146e-b885-4994-8829-8d88841610e3",
   "metadata": {
    "tags": []
   },
   "outputs": [],
   "source": [
    "# Set configuration for Aura instance\n",
    "tenant_id = \"7b9f421f-d9bb-5639-a115-f24dcdf7d17e\"\n",
    "cloud_provider = 'gcp'\n",
    "size = '8GB'\n",
    "region = 'europe-west1'\n",
    "aura_type = 'enterprise-ds'\n",
    "neo4j_version = '5'\n",
    "\n",
    "instance_name = \"test_cxa\"\n",
    "\n",
    "print('cloud_provider:', cloud_provider)\n",
    "print('size:', size)\n",
    "print('region:', region)\n",
    "print('aura_type:', aura_type)\n",
    "print('neo4j_version:', neo4j_version)"
   ]
  },
  {
   "cell_type": "markdown",
   "id": "ccd1cdc9-f986-4087-a464-b757770b6401",
   "metadata": {},
   "source": [
    "Now let's deploy the instance"
   ]
  },
  {
   "cell_type": "code",
   "execution_count": null,
   "id": "bb3ddc59-a406-42e6-885b-3291ba30ab84",
   "metadata": {
    "tags": []
   },
   "outputs": [],
   "source": [
    "instance_details = deploy_instance(access_token, api_base, instance_name, tenant_id, cloud_provider, region=region, aura_type=aura_type, neo4j_version=neo4j_version, size=size)\n",
    "\n",
    "NEO4J_URI = instance_details['connection_url']\n",
    "NEO4J_USERNAME = \"neo4j\"\n",
    "NEO4J_PASSWORD = instance_details['password']\n",
    "\n",
    "print('\\ninstance_details:')\n",
    "for item in instance_details:\n",
    "    print(item, '=', instance_details[item])"
   ]
  },
  {
   "cell_type": "code",
   "execution_count": null,
   "id": "88f2b8c7-08a8-4a9f-ab78-4a5dc9164827",
   "metadata": {
    "tags": []
   },
   "outputs": [],
   "source": [
    "AURA_INSTANCEID = instance_details['id']\n",
    "AURA_INSTANCENAME = instance_details['name']\n",
    "\n",
    "# Save instance authentication details to a file\n",
    "export_text = \"\"\n",
    "export_text += \"NEO4J_URI = \" + NEO4J_URI + \"\\n\"\n",
    "export_text += \"NEO4J_USERNAME = \" + NEO4J_USERNAME + \"\\n\"\n",
    "export_text += \"NEO4J_PASSWORD = \" + NEO4J_PASSWORD + \"\\n\"\n",
    "export_text += \"AURA_INSTANCEID = \" + AURA_INSTANCEID + \"\\n\"\n",
    "export_text += \"AURA_INSTANCENAME = \" + AURA_INSTANCENAME + \"\\n\"\n",
    "\n",
    "#connection_filename = secret_path + \"/\" + AURA_INSTANCENAME + \"-\" + AURA_INSTANCEID + \"-connection.txt\"\n",
    "\n",
    "connection_filename = secret_path + '/' + \"aura_connection.txt\"\n",
    "\n",
    "print(export_text)\n",
    "f = open(connection_filename, \"w\")\n",
    "f.write(export_text)\n",
    "f.close()"
   ]
  },
  {
   "cell_type": "markdown",
   "id": "48dc6a0f-1e0d-4ada-b0ff-c2ff1b698118",
   "metadata": {},
   "source": [
    "Let's test the instance now once it's running to make sure it works."
   ]
  },
  {
   "cell_type": "code",
   "execution_count": null,
   "id": "febcc58c-6bd3-4425-a04b-382ce364aac6",
   "metadata": {
    "tags": []
   },
   "outputs": [],
   "source": [
    "print('NEO4J_URI:', NEO4J_URI) \n",
    "print('NEO4J_USERNAME:', NEO4J_USERNAME) \n",
    "print('NEO4J_PASSWORD:', NEO4J_PASSWORD) \n",
    "\n",
    "gds = GraphDataScience(\n",
    "    NEO4J_URI,\n",
    "    auth=(NEO4J_USERNAME, NEO4J_PASSWORD),\n",
    "    aura_ds=True\n",
    ")\n",
    "gds.set_database('neo4j')\n",
    "\n",
    "gds.run_cypher('RETURN gds.version() as version')"
   ]
  },
  {
   "cell_type": "markdown",
   "id": "3e703ae3-7853-4314-9e0e-320b49a8f6dc",
   "metadata": {
    "id": "aqIB-wSeGmzQ"
   },
   "source": [
    "Let's take a closer look at one of them."
   ]
  },
  {
   "cell_type": "code",
   "execution_count": null,
   "id": "4779cedf-3773-494f-b007-f5d8d94f9f69",
   "metadata": {
    "id": "7vhCdxb1GmzQ",
    "tags": []
   },
   "outputs": [],
   "source": [
    "instance_details = instance_info(access_token, api_base, instance_details['id'])\n",
    "print('instance_details:')\n",
    "print()\n",
    "for item in instance_details:\n",
    "    print('\\t' + item, '=', instance_details[item])"
   ]
  },
  {
   "cell_type": "code",
   "execution_count": null,
   "id": "9137791a-5679-4965-a6b2-9f76d4ef3708",
   "metadata": {},
   "outputs": [],
   "source": []
  }
 ],
 "metadata": {
  "environment": {
   "kernel": "python3",
   "name": "common-cpu.m125",
   "type": "gcloud",
   "uri": "us-docker.pkg.dev/deeplearning-platform-release/gcr.io/base-cpu:m125"
  },
  "kernelspec": {
   "display_name": "Python 3 (Local)",
   "language": "python",
   "name": "python3"
  },
  "language_info": {
   "codemirror_mode": {
    "name": "ipython",
    "version": 3
   },
   "file_extension": ".py",
   "mimetype": "text/x-python",
   "name": "python",
   "nbconvert_exporter": "python",
   "pygments_lexer": "ipython3",
   "version": "3.10.15"
  }
 },
 "nbformat": 4,
 "nbformat_minor": 5
}
