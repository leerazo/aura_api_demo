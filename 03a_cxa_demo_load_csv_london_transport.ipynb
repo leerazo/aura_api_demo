{
 "cells": [
  {
   "cell_type": "code",
   "execution_count": null,
   "id": "55c24264-a54a-4752-a1e7-c58f6ac3259e",
   "metadata": {
    "tags": []
   },
   "outputs": [],
   "source": [
    "%pip install --user graphdatascience\n",
    "%pip install --user neo4j\n",
    "%pip install --user IProgress\n",
    "%pip install --user tqdm"
   ]
  },
  {
   "cell_type": "code",
   "execution_count": null,
   "id": "9a0c085e-08c8-4ee2-afc3-41b02c344d38",
   "metadata": {
    "tags": []
   },
   "outputs": [],
   "source": [
    "import IPython\n",
    "\n",
    "app = IPython.Application.instance()\n",
    "app.kernel.do_shutdown(True)"
   ]
  },
  {
   "cell_type": "code",
   "execution_count": null,
   "id": "368a33db-3d37-4652-9266-ac0539702298",
   "metadata": {
    "tags": []
   },
   "outputs": [],
   "source": [
    "from dotenv import dotenv_values\n",
    "from urllib.parse import urljoin\n",
    "from pprint import pprint as pp\n",
    "import subprocess\n",
    "import datetime\n",
    "import json\n",
    "from pprint import pprint as pp\n",
    "from graphdatascience import GraphDataScience"
   ]
  },
  {
   "cell_type": "code",
   "execution_count": null,
   "id": "05d47370-8dcc-4d8f-ab21-f0a957eb76c3",
   "metadata": {
    "tags": []
   },
   "outputs": [],
   "source": [
    "secret_path = '.secret'\n",
    "neo4j_connections_file = secret_path + '/' + 'aura_connection.txt'\n",
    "aura_creds = dotenv_values(neo4j_connections_file)\n",
    "\n",
    "NEO4J_URI = aura_creds['NEO4J_URI']\n",
    "NEO4J_USERNAME = aura_creds['NEO4J_USERNAME']\n",
    "NEO4J_PASSWORD = aura_creds['NEO4J_PASSWORD']\n",
    "\n",
    "print('NEO4J_URI:', NEO4J_URI)\n",
    "print('NEO4J_USERNAME:', NEO4J_USERNAME)\n",
    "print('NEO4J_PASSWORD:', NEO4J_PASSWORD)"
   ]
  },
  {
   "cell_type": "code",
   "execution_count": null,
   "id": "8a544429-5b38-46c7-b941-2e3e50b820da",
   "metadata": {
    "tags": []
   },
   "outputs": [],
   "source": [
    "print('NEO4J_URI:', NEO4J_URI) \n",
    "print('NEO4J_USERNAME:', NEO4J_USERNAME) \n",
    "print('NEO4J_PASSWORD:', NEO4J_PASSWORD) \n",
    "\n",
    "gds = GraphDataScience(\n",
    "    NEO4J_URI,\n",
    "    auth=(NEO4J_USERNAME, NEO4J_PASSWORD),\n",
    "    aura_ds=True\n",
    ")\n",
    "gds.set_database('neo4j')\n",
    "\n",
    "gds.run_cypher('RETURN gds.version() as version')"
   ]
  },
  {
   "cell_type": "markdown",
   "id": "147f9d37-f9a6-48f3-ad2a-afd93f639721",
   "metadata": {},
   "source": [
    "### Loading data from CSV"
   ]
  },
  {
   "cell_type": "code",
   "execution_count": null,
   "id": "918caac8-f7c8-411b-ba60-92571f0cc6b9",
   "metadata": {
    "tags": []
   },
   "outputs": [],
   "source": [
    "gds.run_cypher('''\n",
    "LOAD CSV WITH HEADERS FROM 'https://storage.googleapis.com/leerazo-demos/london_transport/datasets/London_stations.csv' AS row\n",
    "MERGE (s:Station {latitude:toFloat(row.Latitude), longitude:toFloat(row.Longitude), name:row.Station, zone:row.Zone})\n",
    "RETURN count(s) as stations\n",
    "''')"
   ]
  },
  {
   "cell_type": "code",
   "execution_count": null,
   "id": "e19ab4db-fce2-439c-82b2-e8ddf6130896",
   "metadata": {
    "tags": []
   },
   "outputs": [],
   "source": [
    "gds.run_cypher('''\n",
    "LOAD CSV WITH HEADERS FROM 'https://storage.googleapis.com/leerazo-demos/london_transport/datasets/London_tube_lines.csv' as row\n",
    "MATCH (a:Station), (b:Station) WHERE a.name = row.From_Station AND b.name = row.To_Station\n",
    "CALL apoc.create.relationship(a, toUpper(row.Tube_Line), {}, b)\n",
    "YIELD rel as rel1\n",
    "CALL apoc.create.relationship(b, toUpper(row.Tube_Line), {}, a)\n",
    "YIELD rel as rel2\n",
    "RETURN count(rel1) + count(rel2) AS relationships;\n",
    "''')"
   ]
  },
  {
   "cell_type": "code",
   "execution_count": null,
   "id": "1dd7a077-999c-4233-9f3d-dc236d1cf3bb",
   "metadata": {},
   "outputs": [],
   "source": []
  }
 ],
 "metadata": {
  "environment": {
   "kernel": "python3",
   "name": "common-cpu.m125",
   "type": "gcloud",
   "uri": "us-docker.pkg.dev/deeplearning-platform-release/gcr.io/base-cpu:m125"
  },
  "kernelspec": {
   "display_name": "Python 3 (Local)",
   "language": "python",
   "name": "python3"
  },
  "language_info": {
   "codemirror_mode": {
    "name": "ipython",
    "version": 3
   },
   "file_extension": ".py",
   "mimetype": "text/x-python",
   "name": "python",
   "nbconvert_exporter": "python",
   "pygments_lexer": "ipython3",
   "version": "3.10.15"
  }
 },
 "nbformat": 4,
 "nbformat_minor": 5
}
