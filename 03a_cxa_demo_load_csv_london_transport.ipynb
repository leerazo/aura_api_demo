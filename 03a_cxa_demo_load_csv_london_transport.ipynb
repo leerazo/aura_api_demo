{
 "cells": [
  {
   "cell_type": "code",
   "execution_count": 22,
   "id": "368a33db-3d37-4652-9266-ac0539702298",
   "metadata": {
    "tags": []
   },
   "outputs": [],
   "source": [
    "from dotenv import dotenv_values\n",
    "from urllib.parse import urljoin\n",
    "from pprint import pprint as pp\n",
    "import subprocess\n",
    "import datetime\n",
    "import json\n",
    "from pprint import pprint as pp\n",
    "from graphdatascience import GraphDataScience"
   ]
  },
  {
   "cell_type": "code",
   "execution_count": 23,
   "id": "05d47370-8dcc-4d8f-ab21-f0a957eb76c3",
   "metadata": {
    "tags": []
   },
   "outputs": [
    {
     "name": "stdout",
     "output_type": "stream",
     "text": [
      "NEO4J_URI: neo4j+s://867b0a7d.databases.neo4j.io\n",
      "NEO4J_USERNAME: neo4j\n",
      "NEO4J_PASSWORD: QPgwqFUtsIhVUKPp7ta4mp_F6nwXTLqwKBOLykszAYc\n"
     ]
    }
   ],
   "source": [
    "secret_path = '.secret'\n",
    "neo4j_connections_file = secret_path + '/' + 'aura_connection.txt'\n",
    "aura_creds = dotenv_values(neo4j_connections_file)\n",
    "\n",
    "NEO4J_URI = aura_creds['NEO4J_URI']\n",
    "NEO4J_USERNAME = aura_creds['NEO4J_USERNAME']\n",
    "NEO4J_PASSWORD = aura_creds['NEO4J_PASSWORD']\n",
    "\n",
    "print('NEO4J_URI:', NEO4J_URI)\n",
    "print('NEO4J_USERNAME:', NEO4J_USERNAME)\n",
    "print('NEO4J_PASSWORD:', NEO4J_PASSWORD)"
   ]
  },
  {
   "cell_type": "code",
   "execution_count": 24,
   "id": "8a544429-5b38-46c7-b941-2e3e50b820da",
   "metadata": {
    "tags": []
   },
   "outputs": [
    {
     "name": "stdout",
     "output_type": "stream",
     "text": [
      "NEO4J_URI: neo4j+s://867b0a7d.databases.neo4j.io\n",
      "NEO4J_USERNAME: neo4j\n",
      "NEO4J_PASSWORD: QPgwqFUtsIhVUKPp7ta4mp_F6nwXTLqwKBOLykszAYc\n"
     ]
    },
    {
     "data": {
      "text/html": [
       "<div>\n",
       "<style scoped>\n",
       "    .dataframe tbody tr th:only-of-type {\n",
       "        vertical-align: middle;\n",
       "    }\n",
       "\n",
       "    .dataframe tbody tr th {\n",
       "        vertical-align: top;\n",
       "    }\n",
       "\n",
       "    .dataframe thead th {\n",
       "        text-align: right;\n",
       "    }\n",
       "</style>\n",
       "<table border=\"1\" class=\"dataframe\">\n",
       "  <thead>\n",
       "    <tr style=\"text-align: right;\">\n",
       "      <th></th>\n",
       "      <th>version</th>\n",
       "    </tr>\n",
       "  </thead>\n",
       "  <tbody>\n",
       "    <tr>\n",
       "      <th>0</th>\n",
       "      <td>2.12.0+78</td>\n",
       "    </tr>\n",
       "  </tbody>\n",
       "</table>\n",
       "</div>"
      ],
      "text/plain": [
       "     version\n",
       "0  2.12.0+78"
      ]
     },
     "execution_count": 24,
     "metadata": {},
     "output_type": "execute_result"
    }
   ],
   "source": [
    "print('NEO4J_URI:', NEO4J_URI) \n",
    "print('NEO4J_USERNAME:', NEO4J_USERNAME) \n",
    "print('NEO4J_PASSWORD:', NEO4J_PASSWORD) \n",
    "\n",
    "gds = GraphDataScience(\n",
    "    NEO4J_URI,\n",
    "    auth=(NEO4J_USERNAME, NEO4J_PASSWORD),\n",
    "    aura_ds=True\n",
    ")\n",
    "gds.set_database('neo4j')\n",
    "\n",
    "gds.run_cypher('RETURN gds.version() as version')"
   ]
  },
  {
   "cell_type": "code",
   "execution_count": null,
   "id": "918caac8-f7c8-411b-ba60-92571f0cc6b9",
   "metadata": {},
   "outputs": [],
   "source": []
  }
 ],
 "metadata": {
  "environment": {
   "kernel": "python3",
   "name": "common-cpu.m125",
   "type": "gcloud",
   "uri": "us-docker.pkg.dev/deeplearning-platform-release/gcr.io/base-cpu:m125"
  },
  "kernelspec": {
   "display_name": "Python 3 (Local)",
   "language": "python",
   "name": "python3"
  },
  "language_info": {
   "codemirror_mode": {
    "name": "ipython",
    "version": 3
   },
   "file_extension": ".py",
   "mimetype": "text/x-python",
   "name": "python",
   "nbconvert_exporter": "python",
   "pygments_lexer": "ipython3",
   "version": "3.10.15"
  }
 },
 "nbformat": 4,
 "nbformat_minor": 5
}
