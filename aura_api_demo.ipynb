{
 "cells": [
  {
   "cell_type": "markdown",
   "id": "3714a183-8156-4a68-96d7-914dc212787f",
   "metadata": {},
   "source": [
    "# Aura API Demo"
   ]
  },
  {
   "cell_type": "markdown",
   "id": "162b28fc-51db-4572-8f13-6d9566988a18",
   "metadata": {
    "jp-MarkdownHeadingCollapsed": true,
    "tags": []
   },
   "source": [
    "## 1. Installation of needed libraries and Seetup"
   ]
  },
  {
   "cell_type": "markdown",
   "id": "516382cc-073b-4bb5-88f1-59eaa52ca8a3",
   "metadata": {
    "tags": []
   },
   "source": [
    "#### Install libraries and restart kernel"
   ]
  },
  {
   "cell_type": "code",
   "execution_count": null,
   "id": "55c24264-a54a-4752-a1e7-c58f6ac3259e",
   "metadata": {
    "tags": []
   },
   "outputs": [],
   "source": [
    "%pip install python-dotenv\n",
    "%pip install --user graphdatascience\n",
    "%pip install --user neo4j\n",
    "%pip install --user IProgress\n",
    "%pip install --user tqdm\n",
    "\n",
    "import IPython\n",
    "app = IPython.Application.instance()\n",
    "app.kernel.do_shutdown(True)"
   ]
  },
  {
   "cell_type": "markdown",
   "id": "c9f32b5d-d01a-4553-bded-e3617d1a56ca",
   "metadata": {},
   "source": [
    "#### Import libraries"
   ]
  },
  {
   "cell_type": "code",
   "execution_count": null,
   "id": "368a33db-3d37-4652-9266-ac0539702298",
   "metadata": {
    "tags": []
   },
   "outputs": [],
   "source": [
    "from dotenv import dotenv_values\n",
    "from urllib.parse import urljoin\n",
    "from pprint import pprint as pp\n",
    "import subprocess\n",
    "import datetime\n",
    "import json\n",
    "from pprint import pprint as pp\n",
    "from graphdatascience import GraphDataScience"
   ]
  },
  {
   "cell_type": "markdown",
   "id": "b30f1b84-f5c8-4a04-8cd4-3c1aff55a88e",
   "metadata": {},
   "source": [
    "#### Set filenames and defaults"
   ]
  },
  {
   "cell_type": "code",
   "execution_count": null,
   "id": "05d47370-8dcc-4d8f-ab21-f0a957eb76c3",
   "metadata": {
    "tags": []
   },
   "outputs": [],
   "source": [
    "# Default directory to store authentication and API token files. This should be added to the .gitignore file if within a repository\n",
    "secret_path = '.secret'\n",
    "\n",
    "# This file should already exist before running this code\n",
    "api_credentials_file = secret_path + '/' + '/aura_ent_api.txt'\n",
    "\n",
    "# This file will be created upon API authentication\n",
    "token_file = secret_path + \"/api_bearer_token\"\n",
    "\n",
    "# This will be used as the basis of Aura API requests\n",
    "api_base = 'https://api.neo4j.io/'\n",
    "\n",
    "# This file will be created upon deployment of a new Aura instance\n",
    "neo4j_connections_file = secret_path + '/' + 'aura_connection.txt'"
   ]
  },
  {
   "cell_type": "markdown",
   "id": "07a1aa51-d426-45de-b3bb-881ffb340dd6",
   "metadata": {
    "jp-MarkdownHeadingCollapsed": true,
    "tags": []
   },
   "source": [
    "## 2. Authenticate Aura API"
   ]
  },
  {
   "cell_type": "markdown",
   "id": "e6b41c3b-64b9-4026-806e-ae18b6b67bea",
   "metadata": {},
   "source": [
    "#### Helper functions"
   ]
  },
  {
   "cell_type": "code",
   "execution_count": null,
   "id": "dc092f7c-549d-40ac-b72a-9099e41d27b2",
   "metadata": {
    "tags": []
   },
   "outputs": [],
   "source": [
    "# This function looks for a bearer token and refreshes if it does not exist or is expired\n",
    "def refresh_token(api_creds, api_base):\n",
    "    api_endpoint = urljoin(api_base, '/oauth/token')\n",
    "\n",
    "    curl_cmd = \"curl --request POST '{}' --user '{}:{}' --header 'Content-Type: application/x-www-form-urlencoded' --data-urlencode 'grant_type=client_credentials'\".format(api_endpoint, api_creds['CLIENT_ID'], api_creds['CLIENT_SECRET'], api_creds['CLIENT_NAME'])\n",
    "    result = json.loads(subprocess.check_output(curl_cmd, shell=True))\n",
    "    access_token = result['access_token']\n",
    "    expires_in = result['expires_in']\n",
    "\n",
    "    now = datetime.datetime.now()\n",
    "    expiration = (now + datetime.timedelta(0, expires_in)).isoformat()\n",
    "\n",
    "    bearer_token = {\n",
    "        'access_token': access_token,\n",
    "        'expiration': expiration\n",
    "    }\n",
    "\n",
    "    # Save the bearer token to a file\n",
    "    token_file = '.secret/api_bearer_token'\n",
    "    with open(token_file, \"w\") as outfile:\n",
    "        json.dump(bearer_token, outfile, indent=4)\n",
    "\n",
    "    access_token = bearer_token['access_token']\n",
    "    return access_token\n",
    "    "
   ]
  },
  {
   "cell_type": "markdown",
   "id": "5fb787dc-4029-4c4b-8448-b7cb8fcee7dd",
   "metadata": {},
   "source": [
    "#### Authenticate API and retrieve or refresh bearer token"
   ]
  },
  {
   "cell_type": "code",
   "execution_count": null,
   "id": "8a544429-5b38-46c7-b941-2e3e50b820da",
   "metadata": {
    "tags": []
   },
   "outputs": [],
   "source": [
    "aura_creds = dotenv_values(api_credentials_file)\n",
    "for item in aura_creds:\n",
    "  print(item, '=', aura_creds[item])\n",
    "print()\n",
    "access_token = refresh_token(aura_creds, api_base)\n",
    "print('access_token:')\n",
    "print(access_token)\n",
    "print()"
   ]
  },
  {
   "cell_type": "markdown",
   "id": "1ae665a1-0f5e-43a1-846b-763c515a0843",
   "metadata": {},
   "source": [
    "#### Test to confirm access to Aura tenant"
   ]
  },
  {
   "cell_type": "code",
   "execution_count": null,
   "id": "0b287f4b-425b-4ab8-a253-5b19dd59f093",
   "metadata": {
    "tags": []
   },
   "outputs": [],
   "source": [
    "api_endpoint = urljoin(api_base, '/v1/tenants')\n",
    "print('api_endpoint:', api_endpoint)\n",
    "\n",
    "list_cmd = \"curl -s -X 'GET' '{}' -H 'accept: application/json' -H 'Authorization: Bearer {}'\".format(api_endpoint, access_token)\n",
    "list_tenants = dict(json.loads(subprocess.check_output(list_cmd, shell=True)))['data']\n",
    "\n",
    "aura_tenants = {}\n",
    "for item in list_tenants:\n",
    "    aura_tenants[item['id']] = {}\n",
    "    aura_tenants[item['id']]['id'] = item['id']\n",
    "    aura_tenants[item['id']]['name'] = item['name']\n",
    "\n",
    "print()\n",
    "print('Aura Tenants:')\n",
    "print('-------------')\n",
    "for tenant in aura_tenants:\n",
    "    print(aura_tenants[tenant])\n",
    "print()"
   ]
  },
  {
   "cell_type": "markdown",
   "id": "a9363ab6-755c-4ac9-a95b-71a4134df1c1",
   "metadata": {
    "jp-MarkdownHeadingCollapsed": true,
    "tags": []
   },
   "source": [
    "## 3. Deploy a new Aura instance"
   ]
  },
  {
   "cell_type": "markdown",
   "id": "1a04f3c5-152e-407c-9b20-c4389a769deb",
   "metadata": {
    "tags": []
   },
   "source": [
    "#### Helper functions"
   ]
  },
  {
   "cell_type": "code",
   "execution_count": null,
   "id": "a7dde3ac-d463-4089-b01f-184ffc71577d",
   "metadata": {
    "tags": []
   },
   "outputs": [],
   "source": [
    "def tenant_info(access_token, api_base, tenant_id):\n",
    "    api_endpoint = urljoin(api_base, '/v1/tenants/' + tenant_id)\n",
    "    tenant_data = {}\n",
    "    info_cmd = \"curl -s -X 'GET' '{}' -H 'accept: application/json' -H 'Authorization: Bearer {}'\".format(api_endpoint, access_token)\n",
    "    tenant_info = json.loads(subprocess.check_output(info_cmd, shell=True))['data']\n",
    "\n",
    "    for item in tenant_info:\n",
    "        tenant_data[tenant_info['id']] = {}\n",
    "        tenant_data[tenant_info['id']]['tenant_id'] = tenant_info['id']\n",
    "        tenant_data[tenant_info['id']]['tenant_name'] = tenant_info['name']\n",
    "        tenant_data[tenant_info['id']]['instance_configurations'] = list(tenant_info['instance_configurations'])\n",
    "        \n",
    "    return tenant_data\n",
    "\n",
    "def deploy_instance(access_token, api_base, instance_name, tenant_id, cloud_provider, region='europe-west1', aura_type='professional-ds', neo4j_version='5', size='16GB'):\n",
    "    api_endpoint = urljoin(api_base, '/v1/instances')\n",
    "\n",
    "    instance_details = {}\n",
    "    print('\\nDeployment specifications:')\n",
    "    print('neo4j_version:', neo4j_version)\n",
    "    print('region:', region)\n",
    "    print('memory:', size)\n",
    "    print('name:', instance_name)\n",
    "    print('type:', aura_type)\n",
    "    print('tenant_id', tenant_id)\n",
    "    print('cloud_provider:', cloud_provider)\n",
    "\n",
    "    request_body = {\n",
    "        \"version\": neo4j_version,\n",
    "        \"region\": region,\n",
    "        \"memory\": size,\n",
    "        \"name\": instance_name,\n",
    "        \"type\": aura_type,\n",
    "        \"tenant_id\": tenant_id,\n",
    "        \"cloud_provider\": cloud_provider\n",
    "    }\n",
    "\n",
    "    json_request_body = json.dumps(request_body)\n",
    "\n",
    "    curl_cmd = \"curl -s -X 'POST' '{}' -H 'accept: application/json' -H 'Authorization: Bearer {}' -H 'Content-Type: application/json'\".format(api_endpoint, access_token)\n",
    "    curl_cmd += \" -d '{}'\".format(json_request_body)\n",
    "\n",
    "    api_response = json.loads(subprocess.check_output(curl_cmd, shell=True))\n",
    "    print(api_response)\n",
    "    response_data = api_response['data']\n",
    "\n",
    "    instance_details['id'] = response_data['id']\n",
    "    instance_details['name'] = response_data['name']\n",
    "    instance_details['connection_url'] = response_data['connection_url']\n",
    "    instance_details['password'] = response_data['password']\n",
    "    instance_details['username'] = response_data['username']\n",
    "    instance_details['cloud_provider'] = response_data['cloud_provider']\n",
    "    instance_details['region'] = response_data['region']\n",
    "    instance_details['tenant_id'] = response_data['tenant_id']\n",
    "    instance_details['type'] = response_data['type']\n",
    "\n",
    "    return instance_details\n",
    "\n",
    "def instance_info(access_token, api_base, instance_id):\n",
    "    api_endpoint = urljoin(api_base, '/v1/instances/' + instance_id)\n",
    "    instance_data = {}\n",
    "\n",
    "    info_cmd = \"curl -s -X 'GET' '{}' -H 'accept: application/json' -H 'Authorization: Bearer {}'\".format(api_endpoint, access_token)\n",
    "\n",
    "    api_response = json.loads(subprocess.check_output(info_cmd, shell=True))\n",
    "\n",
    "    if 'data' in api_response:\n",
    "        response_data = api_response['data']\n",
    "        instance_status = response_data['status']\n",
    "\n",
    "    return response_data"
   ]
  },
  {
   "cell_type": "markdown",
   "id": "598b521c-5e4c-4cd7-b2cc-86d941614291",
   "metadata": {
    "tags": []
   },
   "source": [
    "#### Check tenant config"
   ]
  },
  {
   "cell_type": "code",
   "execution_count": null,
   "id": "c02d933d-b1fb-4782-8961-eb9274d2da40",
   "metadata": {
    "tags": []
   },
   "outputs": [],
   "source": [
    "tenant_id = \"7b9f421f-d9bb-5639-a115-f24dcdf7d17e\"\n",
    "tenant_data = tenant_info(access_token, api_base, tenant_id)\n",
    "tenant_configs = tenant_data[tenant_id]['instance_configurations']\n",
    "print('tenant_id:', tenant_data[tenant_id]['tenant_id'])\n",
    "print('tenant_name:', tenant_data[tenant_id]['tenant_name'])\n",
    "print('instance_configurations:')\n",
    "for config in tenant_configs:\n",
    "    print('\\t', config['cloud_provider'], config['memory'], 'Neo4jV' + config['version'], config['region'], config['region_name'], config['type'])"
   ]
  },
  {
   "cell_type": "markdown",
   "id": "b7091219-22c3-47a6-a2dd-429fb3752aac",
   "metadata": {
    "tags": []
   },
   "source": [
    "#### Configure Aura instance"
   ]
  },
  {
   "cell_type": "code",
   "execution_count": null,
   "id": "ac223a6a-0aea-482b-870c-75567725ba73",
   "metadata": {
    "tags": []
   },
   "outputs": [],
   "source": [
    "# Set configuration for Aura instance\n",
    "aura_instance_info = {\n",
    "    'tenant_id': tenant_id,\n",
    "    'name': \"leerazo_aura_api_demo\",\n",
    "    'cloud_provider': 'gcp',\n",
    "    'size': '8GB',\n",
    "    'region': 'europe-west1',\n",
    "    'type': 'enterprise-ds',\n",
    "    'neo4j_version': '5'\n",
    "}\n",
    "\n",
    "pp(aura_instance_info)"
   ]
  },
  {
   "cell_type": "markdown",
   "id": "98590cb0-8689-4dd7-8bef-639b66089bff",
   "metadata": {},
   "source": [
    "#### Deploy a new Neo4j instance according to our configuration"
   ]
  },
  {
   "cell_type": "code",
   "execution_count": null,
   "id": "b22fb025-557f-4dea-87d8-6a683db7715f",
   "metadata": {
    "tags": []
   },
   "outputs": [],
   "source": [
    "instance_details = deploy_instance(access_token, api_base, aura_instance_info['name'], tenant_id, aura_instance_info['cloud_provider'], region=aura_instance_info['region'], aura_type=aura_instance_info['type'], neo4j_version=aura_instance_info['neo4j_version'], size=aura_instance_info['size'])\n",
    "\n",
    "NEO4J_URI = instance_details['connection_url']\n",
    "NEO4J_USERNAME = \"neo4j\"\n",
    "NEO4J_PASSWORD = instance_details['password']\n",
    "\n",
    "print('\\ninstance_details:')\n",
    "for item in instance_details:\n",
    "    print(item, '=', instance_details[item])\n",
    "    \n",
    "print()\n",
    "print('NEO4J_URI:', NEO4J_URI)\n",
    "print('NEO4J_USERNAME:', NEO4J_USERNAME)\n",
    "print('NEO4J_PASSWORD:', NEO4J_PASSWORD)"
   ]
  },
  {
   "cell_type": "markdown",
   "id": "3ea78cb2-0979-4d15-a7cb-e5ba3aea31d3",
   "metadata": {
    "tags": []
   },
   "source": [
    "#### Save the Aura credentials to a file"
   ]
  },
  {
   "cell_type": "code",
   "execution_count": null,
   "id": "e4e44d57-e291-44a8-a3eb-95e31a6bf5d3",
   "metadata": {
    "tags": []
   },
   "outputs": [],
   "source": [
    "AURA_INSTANCEID = instance_details['id']\n",
    "AURA_INSTANCENAME = instance_details['name']\n",
    "\n",
    "# Save instance authentication details to a file\n",
    "export_text = \"\"\n",
    "export_text += \"NEO4J_URI = \" + NEO4J_URI + \"\\n\"\n",
    "export_text += \"NEO4J_USERNAME = \" + NEO4J_USERNAME + \"\\n\"\n",
    "export_text += \"NEO4J_PASSWORD = \" + NEO4J_PASSWORD + \"\\n\"\n",
    "export_text += \"AURA_INSTANCEID = \" + AURA_INSTANCEID + \"\\n\"\n",
    "export_text += \"AURA_INSTANCENAME = \" + AURA_INSTANCENAME + \"\\n\"\n",
    "\n",
    "#connection_filename = secret_path + \"/\" + AURA_INSTANCENAME + \"-\" + AURA_INSTANCEID + \"-connection.txt\"\n",
    "\n",
    "connection_filename = secret_path + '/' + \"aura_connection.txt\"\n",
    "\n",
    "print(export_text)\n",
    "f = open(connection_filename, \"w\")\n",
    "f.write(export_text)\n",
    "f.close()"
   ]
  },
  {
   "cell_type": "markdown",
   "id": "828e2c95-9b1b-4925-83dd-fd1788f8ade2",
   "metadata": {},
   "source": [
    "#### Confirm the instance details"
   ]
  },
  {
   "cell_type": "code",
   "execution_count": null,
   "id": "f2ea174c-ac32-482e-a659-60a33c899a1f",
   "metadata": {
    "id": "7vhCdxb1GmzQ",
    "tags": []
   },
   "outputs": [],
   "source": [
    "instance_details = instance_info(access_token, api_base, instance_details['id'])\n",
    "print('instance_details:')\n",
    "print()\n",
    "for item in instance_details:\n",
    "    print('\\t' + item, '=', instance_details[item])"
   ]
  },
  {
   "cell_type": "markdown",
   "id": "6f8ddd86-8f23-49ef-94fd-c37f5ce26bb5",
   "metadata": {
    "jp-MarkdownHeadingCollapsed": true,
    "tags": []
   },
   "source": [
    "## 4. Load some data into Neo4j"
   ]
  },
  {
   "cell_type": "markdown",
   "id": "f16c8a71-de83-44a8-9182-be39979cc63b",
   "metadata": {
    "tags": []
   },
   "source": [
    "#### Connect to the Neo4j instance and confirm everything is working"
   ]
  },
  {
   "cell_type": "code",
   "execution_count": null,
   "id": "185874fc-7e43-4b37-b180-0c2c97c87e12",
   "metadata": {
    "tags": []
   },
   "outputs": [],
   "source": [
    "print('NEO4J_URI:', NEO4J_URI) \n",
    "print('NEO4J_USERNAME:', NEO4J_USERNAME) \n",
    "print('NEO4J_PASSWORD:', NEO4J_PASSWORD) \n",
    "\n",
    "gds = GraphDataScience(\n",
    "    NEO4J_URI,\n",
    "    auth=(NEO4J_USERNAME, NEO4J_PASSWORD),\n",
    "    aura_ds=True\n",
    ")\n",
    "gds.set_database('neo4j')\n",
    "print()\n",
    "print('Checking GDS version:')\n",
    "gds.run_cypher('RETURN gds.version() as version')"
   ]
  },
  {
   "cell_type": "markdown",
   "id": "147f9d37-f9a6-48f3-ad2a-afd93f639721",
   "metadata": {},
   "source": [
    "#### Load some data from a CSV file in a Google Storage bucket\n",
    "We will use a very basic demo dataset that represents the stations and connections of the London public transport network"
   ]
  },
  {
   "cell_type": "code",
   "execution_count": null,
   "id": "918caac8-f7c8-411b-ba60-92571f0cc6b9",
   "metadata": {
    "tags": []
   },
   "outputs": [],
   "source": [
    "# First we'll create some nodes to represent the stations\n",
    "gds.run_cypher('''\n",
    "LOAD CSV WITH HEADERS FROM 'https://storage.googleapis.com/leerazo-demos/london_transport/datasets/London_stations.csv' AS row\n",
    "MERGE (s:Station {latitude:toFloat(row.Latitude), longitude:toFloat(row.Longitude), name:row.Station, zone:row.Zone})\n",
    "RETURN count(s) as stations\n",
    "''')"
   ]
  },
  {
   "cell_type": "code",
   "execution_count": null,
   "id": "e19ab4db-fce2-439c-82b2-e8ddf6130896",
   "metadata": {
    "tags": []
   },
   "outputs": [],
   "source": [
    "# Next we'll connect the stations according to the various transport lines (i.e. \"Jubilee\", \"Bakerloo\", \"Overground\", etc)\n",
    "gds.run_cypher('''\n",
    "LOAD CSV WITH HEADERS FROM 'https://storage.googleapis.com/leerazo-demos/london_transport/datasets/London_tube_lines.csv' as row\n",
    "MATCH (a:Station), (b:Station) WHERE a.name = row.From_Station AND b.name = row.To_Station\n",
    "CALL apoc.create.relationship(a, toUpper(row.Tube_Line), {}, b)\n",
    "YIELD rel as rel1\n",
    "CALL apoc.create.relationship(b, toUpper(row.Tube_Line), {}, a)\n",
    "YIELD rel as rel2\n",
    "RETURN count(rel1) + count(rel2) AS relationships;\n",
    "''')"
   ]
  },
  {
   "cell_type": "code",
   "execution_count": null,
   "id": "1dd7a077-999c-4233-9f3d-dc236d1cf3bb",
   "metadata": {},
   "outputs": [],
   "source": [
    "# Let's run a test query to list some stations connected on the Jubilee line\n",
    "gds.run_cypher('''\n",
    "MATCH (a)-[r:JUBILEE]-()\n",
    "RETURN a.name LIMIT 25\n",
    "''')"
   ]
  },
  {
   "cell_type": "markdown",
   "id": "5061f3b9-07e1-4ac9-937c-83f734cbe3d1",
   "metadata": {},
   "source": [
    "#### Clean up"
   ]
  },
  {
   "cell_type": "code",
   "execution_count": null,
   "id": "da90b985-1186-4a66-bed9-369ac8c9bd3d",
   "metadata": {},
   "outputs": [],
   "source": [
    "# This command will delete the graph\n",
    "gds.run_cypher('''\n",
    "MATCH (n) DETACH DELETE n\n",
    "''')"
   ]
  },
  {
   "cell_type": "code",
   "execution_count": null,
   "id": "6a4fa7b6-b823-42b1-a8e8-455755361e0b",
   "metadata": {},
   "outputs": [],
   "source": []
  }
 ],
 "metadata": {
  "environment": {
   "kernel": "python3",
   "name": "tf2-cpu.2-11.m125",
   "type": "gcloud",
   "uri": "us-docker.pkg.dev/deeplearning-platform-release/gcr.io/tf2-cpu.2-11:m125"
  },
  "kernelspec": {
   "display_name": "Python 3 (Local)",
   "language": "python",
   "name": "python3"
  },
  "language_info": {
   "codemirror_mode": {
    "name": "ipython",
    "version": 3
   },
   "file_extension": ".py",
   "mimetype": "text/x-python",
   "name": "python",
   "nbconvert_exporter": "python",
   "pygments_lexer": "ipython3",
   "version": "3.10.15"
  }
 },
 "nbformat": 4,
 "nbformat_minor": 5
}
